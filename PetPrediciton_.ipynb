{
  "nbformat": 4,
  "nbformat_minor": 0,
  "metadata": {
    "colab": {
      "provenance": [],
      "authorship_tag": "ABX9TyNm5pKcBJc24pSyka5rsw+s",
      "include_colab_link": true
    },
    "kernelspec": {
      "name": "python3",
      "display_name": "Python 3"
    },
    "language_info": {
      "name": "python"
    }
  },
  "cells": [
    {
      "cell_type": "markdown",
      "metadata": {
        "id": "view-in-github",
        "colab_type": "text"
      },
      "source": [
        "<a href=\"https://colab.research.google.com/github/Elsamariatomlin/elsa/blob/main/PetPrediciton_.ipynb\" target=\"_parent\"><img src=\"https://colab.research.google.com/assets/colab-badge.svg\" alt=\"Open In Colab\"/></a>"
      ]
    },
    {
      "cell_type": "code",
      "source": [
        "import pandas as pd\n",
        "import numpy as np\n",
        "import matplotlib.pyplot as plt\n",
        "import seaborn as sns\n",
        "\n",
        "from sklearn.model_selection import train_test_split\n",
        "from sklearn.linear_model import LogisticRegression\n",
        "from sklearn.preprocessing import LabelEncoder,StandardScaler\n",
        "from sklearn.metrics import accuracy_score,classification_report\n",
        "\n",
        "df=pd.read_excel('/content/petadoption.xlsx')\n",
        "print(\"the first 5 rows\",df.head())\n",
        "print(df.isnull().sum())\n",
        "\n",
        "le_breed=LabelEncoder()\n",
        "df['Breed']=le_breed.fit_transform(df['Breed'])\n",
        "\n",
        "X=df[['PetID','Type','Age','Breed','Gender','Vaccinated','Sterilized','Fee','PhotoAmt']]\n",
        "y=df['AdoptionSpeed']\n",
        "\n",
        "X = X.drop('PetID', axis=1)\n",
        "\n",
        "\n",
        "X = pd.get_dummies(X, columns=['Type', 'Gender', 'Vaccinated', 'Sterilized'], drop_first=True)\n",
        "\n",
        "\n",
        "scaler=StandardScaler()\n",
        "X=scaler.fit_transform(X)\n",
        "\n",
        "X_train,X_test,y_train,y_test=train_test_split(X,y,test_size=0.2,random_state=42)\n",
        "\n",
        "model=LogisticRegression(max_iter=1000)\n",
        "model.fit(X_train,y_train)\n",
        "\n",
        "y_pred=model.predict(X_test)\n",
        "\n",
        "print(\"accuracy score\",accuracy_score(y_test,y_pred))\n",
        "print(\"classification report\",classification_report(y_test,y_pred))\n",
        "print(\"model coefficients\",model.coef_)"
      ],
      "metadata": {
        "id": "h2fs1dtKGxu-",
        "colab": {
          "base_uri": "https://localhost:8080/"
        },
        "outputId": "610bf65c-e419-4851-a0f0-f8aa9fa63082"
      },
      "execution_count": 10,
      "outputs": [
        {
          "output_type": "stream",
          "name": "stdout",
          "text": [
            "the first 5 rows    PetID Type  Age    Breed  Gender Vaccinated Sterilized  Fee  PhotoAmt  \\\n",
            "0  P1000  Dog    5   Beagle    Male        Yes        Yes    0         3   \n",
            "1  P1001  Cat   12  Persian  Female         No         No   50         2   \n",
            "2  P1002  Dog    2    Mixed    Male        Yes        Yes    0         5   \n",
            "3  P1003  Dog   18  Bulldog  Female        Yes        Yes   30         4   \n",
            "4  P1004  Cat    6  Siamese    Male         No        Yes   20         1   \n",
            "\n",
            "   AdoptionSpeed  \n",
            "0              1  \n",
            "1              3  \n",
            "2              0  \n",
            "3              2  \n",
            "4              1  \n",
            "PetID            0\n",
            "Type             0\n",
            "Age              0\n",
            "Breed            0\n",
            "Gender           0\n",
            "Vaccinated       0\n",
            "Sterilized       0\n",
            "Fee              0\n",
            "PhotoAmt         0\n",
            "AdoptionSpeed    0\n",
            "dtype: int64\n",
            "accuracy score 0.75\n",
            "classification report               precision    recall  f1-score   support\n",
            "\n",
            "           0       0.67      0.67      0.67         3\n",
            "           1       0.50      0.67      0.57         3\n",
            "           2       1.00      0.80      0.89         5\n",
            "           3       1.00      1.00      1.00         1\n",
            "\n",
            "    accuracy                           0.75        12\n",
            "   macro avg       0.79      0.78      0.78        12\n",
            "weighted avg       0.79      0.75      0.76        12\n",
            "\n",
            "model coefficients [[-2.38956166 -0.03747767 -0.57286816 -0.56385715  0.61976484 -0.0500253\n",
            "  -0.24845817 -0.34259479]\n",
            " [-0.05893318 -0.04183297 -0.43357895 -0.30173643 -0.13426142 -0.33365718\n",
            "   0.63039283  0.07032271]\n",
            " [ 1.52929815 -0.32393317 -0.3303737  -0.05983628  0.08515316  0.25091347\n",
            "  -0.21227492 -0.10891874]\n",
            " [ 0.9191967   0.40324382  1.33682081  0.92542986 -0.57065658  0.132769\n",
            "  -0.16965974  0.38119082]]\n"
          ]
        }
      ]
    }
  ]
}