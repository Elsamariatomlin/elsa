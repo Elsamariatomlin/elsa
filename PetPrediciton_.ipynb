{
  "nbformat": 4,
  "nbformat_minor": 0,
  "metadata": {
    "colab": {
      "provenance": [],
      "authorship_tag": "ABX9TyNmu+XO+s2bnWQVIW3G01CA",
      "include_colab_link": true
    },
    "kernelspec": {
      "name": "python3",
      "display_name": "Python 3"
    },
    "language_info": {
      "name": "python"
    }
  },
  "cells": [
    {
      "cell_type": "markdown",
      "metadata": {
        "id": "view-in-github",
        "colab_type": "text"
      },
      "source": [
        "<a href=\"https://colab.research.google.com/github/Elsamariatomlin/elsa/blob/main/PetPrediciton_.ipynb\" target=\"_parent\"><img src=\"https://colab.research.google.com/assets/colab-badge.svg\" alt=\"Open In Colab\"/></a>"
      ]
    },
    {
      "cell_type": "code",
      "execution_count": 8,
      "metadata": {
        "colab": {
          "base_uri": "https://localhost:8080/"
        },
        "id": "K5LkS6I1Mhd0",
        "outputId": "30f1fd29-002a-44e6-8d73-e89ec488ae40"
      },
      "outputs": [
        {
          "output_type": "stream",
          "name": "stdout",
          "text": [
            "the first 5 rows    PetID Type  Age    Breed  Gender Vaccinated Sterilized  Fee  PhotoAmt  \\\n",
            "0  P1000  Dog    5   Beagle    Male        Yes        Yes    0         3   \n",
            "1  P1001  Cat   12  Persian  Female         No         No   50         2   \n",
            "2  P1002  Dog    2    Mixed    Male        Yes        Yes    0         5   \n",
            "3  P1003  Dog   18  Bulldog  Female        Yes        Yes   30         4   \n",
            "4  P1004  Cat    6  Siamese    Male         No        Yes   20         1   \n",
            "\n",
            "   AdoptionSpeed  \n",
            "0              1  \n",
            "1              3  \n",
            "2              0  \n",
            "3              2  \n",
            "4              1  \n",
            "PetID            0\n",
            "Type             0\n",
            "Age              0\n",
            "Breed            0\n",
            "Gender           0\n",
            "Vaccinated       0\n",
            "Sterilized       0\n",
            "Fee              0\n",
            "PhotoAmt         0\n",
            "AdoptionSpeed    0\n",
            "dtype: int64\n"
          ]
        }
      ],
      "source": [
        "import pandas as pd\n",
        "import numpy as np\n",
        "import matplotlib.pyplot as plt\n",
        "import seaborn as sns\n",
        "\n",
        "from sklearn.model_selection import train_test_split\n",
        "from sklearn.linear_model import LogisticRegression\n",
        "from sklearn.preprocessing import LabelEncoder,StandardScaler\n",
        "from sklearn.metrics import accuracy_score,classification_report\n",
        "\n",
        "df=pd.read_excel('/content/petadoption.xlsx')\n",
        "print(\"the first 5 rows\",df.head())\n",
        "print(df.isnull().sum())"
      ]
    }
  ]
}