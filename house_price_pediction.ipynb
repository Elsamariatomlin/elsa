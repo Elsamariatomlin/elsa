{
  "nbformat": 4,
  "nbformat_minor": 0,
  "metadata": {
    "colab": {
      "provenance": [],
      "authorship_tag": "ABX9TyOT8tt/B2JThgC68auIONm1",
      "include_colab_link": true
    },
    "kernelspec": {
      "name": "python3",
      "display_name": "Python 3"
    },
    "language_info": {
      "name": "python"
    }
  },
  "cells": [
    {
      "cell_type": "markdown",
      "metadata": {
        "id": "view-in-github",
        "colab_type": "text"
      },
      "source": [
        "<a href=\"https://colab.research.google.com/github/Elsamariatomlin/elsa/blob/main/house_price_pediction.ipynb\" target=\"_parent\"><img src=\"https://colab.research.google.com/assets/colab-badge.svg\" alt=\"Open In Colab\"/></a>"
      ]
    },
    {
      "cell_type": "code",
      "execution_count": null,
      "metadata": {
        "collapsed": true,
        "id": "3X1UowKMknNT"
      },
      "outputs": [],
      "source": [
        "import numpy as np\n",
        "import pandas as pd\n",
        "import matplotlib.pyplot as plt\n",
        "from sklearn.linear_model import LinearRegression\n",
        "\n",
        "\n",
        "\n",
        "x=np.array([\"200\",\"1000\",\"1500\",\"2000\",\"2500\"]).reshape(-1,1)#x and y are features\n",
        "y=np.array([\"300000\",\"500000\",\"600000\",\"700000\",\"800000\"])\n",
        "model=LinearRegression()\n",
        "model.fit(x,y)\n",
        "\n",
        "#MODEL PARAMETERS\n",
        "print(\"intercept(base price):\",model.intercept_)\n",
        "print(\"slope(price per square foot):\",model.coef_[0])\n",
        "\n",
        "size=1100\n",
        "predicted_price=model.predict([[size]])\n",
        "print(f\"predicted price for a {size} sqft={predicted_price[0]:.2f}\")\n"
      ]
    },
    {
      "cell_type": "code",
      "source": [
        "import pandas as pd\n",
        "import numpy as np\n",
        "import matplotlib.pyplot as plt\n",
        "from sklearn.linear_model import LinearRegression\n",
        "\n",
        "#  x = square feet & y = price           #    reshape used to covert 1D array to 2D array\n",
        "x = np.array([2500,2000,1000,1500,1650]).reshape(-1,1)\n",
        "y = np.array([12000,234570,345680,35790,12345])\n",
        "model = LinearRegression()\n",
        "model.fit(x,y)\n",
        "\n",
        "# MODEL PARAMETERS\n",
        "print(\"Intercept (base price)\",model.intercept_)\n",
        "print(\"Slope (price per sqft)\",model.coef_[0])\n",
        "\n",
        "size = 1100\n",
        "predicted_price = model.predict([[size]])\n",
        "print(f\"Predicted price for {size} sqft = ${predicted_price[0]:2f}\")"
      ],
      "metadata": {
        "colab": {
          "base_uri": "https://localhost:8080/"
        },
        "id": "4ImAjAh3sVKO",
        "outputId": "19353963-07d5-453b-9a2b-bc288338c381"
      },
      "execution_count": 3,
      "outputs": [
        {
          "output_type": "stream",
          "name": "stdout",
          "text": [
            "Intercept (base price) 387978.28298887133\n",
            "Slope (price per sqft) -150.23195548489673\n",
            "Predicted price for 1100 sqft = $222723.131955\n"
          ]
        }
      ]
    }
  ]
}