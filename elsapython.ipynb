{
  "nbformat": 4,
  "nbformat_minor": 0,
  "metadata": {
    "colab": {
      "provenance": [],
      "authorship_tag": "ABX9TyMwxRReHWlkaz1tKgaBpuu/",
      "include_colab_link": true
    },
    "kernelspec": {
      "name": "python3",
      "display_name": "Python 3"
    },
    "language_info": {
      "name": "python"
    }
  },
  "cells": [
    {
      "cell_type": "markdown",
      "metadata": {
        "id": "view-in-github",
        "colab_type": "text"
      },
      "source": [
        "<a href=\"https://colab.research.google.com/github/Elsamariatomlin/elsa/blob/main/elsapython.ipynb\" target=\"_parent\"><img src=\"https://colab.research.google.com/assets/colab-badge.svg\" alt=\"Open In Colab\"/></a>"
      ]
    },
    {
      "cell_type": "code",
      "execution_count": 36,
      "metadata": {
        "colab": {
          "base_uri": "https://localhost:8080/"
        },
        "id": "WQSk0k0dqmLL",
        "outputId": "a958a832-9ef1-4d4c-a0eb-956f3fdf3043"
      },
      "outputs": [
        {
          "output_type": "stream",
          "name": "stdout",
          "text": [
            "0.2752081335792903\n",
            "[0.95726501 0.59038408 0.22038164]\n",
            "2.5\n",
            "2.5\n",
            "1.118033988749895\n",
            "3\n",
            "[95 95 71 95 99]\n",
            "[[53 90 69]\n",
            " [46 35 26]\n",
            " [29 84 25]]\n",
            "[487226 104590 208669 686661 196428]\n",
            "4056\n"
          ]
        }
      ],
      "source": [
        "import numpy as np\n",
        "a =np.random.rand()\n",
        "print(a)\n",
        "b=np.random.rand(3)\n",
        "print(b)\n",
        "arr =np.array([1,2,4,3])\n",
        "print(np.mean(arr))\n",
        "print(np.median(arr))\n",
        "print(np.std(arr))\n",
        "x=np.random.randint(1,10)\n",
        "print(x)\n",
        "y=np.random.randint(0,100,size=5)\n",
        "print(y)\n",
        "z=np.random.randint(10,100,size=(3,3))\n",
        "print(z)\n",
        "otp = np.random.randint(100000, 1000000, size=5)\n",
        "print( otp)\n",
        "otp4 = np.random.randint(1000, 10000)\n",
        "print(otp4)\n"
      ]
    },
    {
      "cell_type": "code",
      "source": [
        "import pandas as pd\n",
        "s=pd.Series([10,20,30,40])\n",
        "print(s)\n",
        "#series\n",
        "#Dataframe\n",
        "data={\"name\":[\"alice\",'bob'],\"age\":[25,20]}\n",
        "df=pd.DataFrame(data)\n",
        "print(df)"
      ],
      "metadata": {
        "colab": {
          "base_uri": "https://localhost:8080/"
        },
        "id": "XyrzfyuAt0Us",
        "outputId": "d7d949cb-a0a9-4c64-e005-7aff47ea09a6"
      },
      "execution_count": 38,
      "outputs": [
        {
          "output_type": "stream",
          "name": "stdout",
          "text": [
            "0    10\n",
            "1    20\n",
            "2    30\n",
            "3    40\n",
            "dtype: int64\n",
            "    name  age\n",
            "0  alice   25\n",
            "1    bob   20\n"
          ]
        }
      ]
    }
  ]
}