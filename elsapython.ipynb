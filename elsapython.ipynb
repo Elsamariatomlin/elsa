{
  "nbformat": 4,
  "nbformat_minor": 0,
  "metadata": {
    "colab": {
      "provenance": [],
      "authorship_tag": "ABX9TyOsTbgnMvCcoZ3/Q+D/OpAh",
      "include_colab_link": true
    },
    "kernelspec": {
      "name": "python3",
      "display_name": "Python 3"
    },
    "language_info": {
      "name": "python"
    }
  },
  "cells": [
    {
      "cell_type": "markdown",
      "metadata": {
        "id": "view-in-github",
        "colab_type": "text"
      },
      "source": [
        "<a href=\"https://colab.research.google.com/github/Elsamariatomlin/elsa/blob/main/elsapython.ipynb\" target=\"_parent\"><img src=\"https://colab.research.google.com/assets/colab-badge.svg\" alt=\"Open In Colab\"/></a>"
      ]
    },
    {
      "cell_type": "code",
      "execution_count": 45,
      "metadata": {
        "colab": {
          "base_uri": "https://localhost:8080/"
        },
        "id": "WQSk0k0dqmLL",
        "outputId": "6a808a70-3773-4fe7-eaf0-e2c87343ae5b"
      },
      "outputs": [
        {
          "output_type": "stream",
          "name": "stdout",
          "text": [
            "0.65798975502288\n",
            "[0.18140273 0.2538983  0.57618277]\n",
            "2.5\n",
            "2.5\n",
            "1.118033988749895\n",
            "6\n",
            "[88 84 75 84 41]\n",
            "[[80 89 39]\n",
            " [66 15 11]\n",
            " [79 25 12]]\n",
            "[944449 279552 208360 574778 942254]\n",
            "9465\n"
          ]
        }
      ],
      "source": [
        "import numpy as np\n",
        "a =np.random.rand()\n",
        "print(a)\n",
        "b=np.random.rand(3)\n",
        "print(b)\n",
        "arr =np.array([1,2,4,3])\n",
        "print(np.mean(arr))\n",
        "print(np.median(arr))\n",
        "print(np.std(arr))\n",
        "x=np.random.randint(1,10)\n",
        "print(x)\n",
        "y=np.random.randint(0,100,size=5)\n",
        "print(y)\n",
        "z=np.random.randint(10,100,size=(3,3))\n",
        "print(z)\n",
        "otp = np.random.randint(100000, 1000000, size=5)\n",
        "print( otp)\n",
        "otp4 = np.random.randint(1000, 10000)\n",
        "print(otp4)\n"
      ]
    },
    {
      "cell_type": "code",
      "source": [
        "import pandas as pd\n",
        "s=pd.Series([10,20,30,40])\n",
        "print(s)\n",
        "#series\n",
        "#Dataframe\n",
        "data={\"name\":[\"alice\",'bob'],\"age\":[25,20]}\n",
        "df=pd.DataFrame(data)\n",
        "print(df)\n"
      ],
      "metadata": {
        "colab": {
          "base_uri": "https://localhost:8080/"
        },
        "id": "XyrzfyuAt0Us",
        "outputId": "9d0722d2-d1cb-464a-e2b5-bba168131046"
      },
      "execution_count": 46,
      "outputs": [
        {
          "output_type": "stream",
          "name": "stdout",
          "text": [
            "0    10\n",
            "1    20\n",
            "2    30\n",
            "3    40\n",
            "dtype: int64\n",
            "    name  age\n",
            "0  alice   25\n",
            "1    bob   20\n"
          ]
        }
      ]
    },
    {
      "cell_type": "code",
      "source": [
        "import pandas as pd\n",
        "#df.head\n",
        "data1={\n",
        "    \"name\":['najah',\"elsa\",\"bhadra\",\"david\",\"rusu\"],\n",
        "    \"score\":[85,96,86,75,96]\n",
        "}\n",
        "df=pd.DataFrame(data1)\n",
        "print(df.head())\n",
        "print(df.head(3))\n"
      ],
      "metadata": {
        "colab": {
          "base_uri": "https://localhost:8080/"
        },
        "id": "AszZ-Ap4ziKn",
        "outputId": "1386aefa-6379-41cb-b311-0322dfa8a07f"
      },
      "execution_count": 47,
      "outputs": [
        {
          "output_type": "stream",
          "name": "stdout",
          "text": [
            "     name  score\n",
            "0   najah     85\n",
            "1    elsa     96\n",
            "2  bhadra     86\n",
            "3   david     75\n",
            "4    rusu     96\n",
            "     name  score\n",
            "0   najah     85\n",
            "1    elsa     96\n",
            "2  bhadra     86\n"
          ]
        }
      ]
    },
    {
      "cell_type": "code",
      "source": [
        "#d.tail\n",
        "import pandas as pd\n",
        "\n",
        "data1={\n",
        "    \"name\":['najah',\"elsa\",\"bhadra\",\"david\",\"rusu\"],\n",
        "    \"score\":[85,96,86,75,96]\n",
        "}\n",
        "df=pd.DataFrame(data1)\n",
        "print(df.tail())\n",
        "print(df.tail(3))"
      ],
      "metadata": {
        "colab": {
          "base_uri": "https://localhost:8080/"
        },
        "id": "vzzfR8Kd0zCB",
        "outputId": "0e03f808-8996-495d-ce99-f0c8410d7f22"
      },
      "execution_count": 48,
      "outputs": [
        {
          "output_type": "stream",
          "name": "stdout",
          "text": [
            "     name  score\n",
            "0   najah     85\n",
            "1    elsa     96\n",
            "2  bhadra     86\n",
            "3   david     75\n",
            "4    rusu     96\n",
            "     name  score\n",
            "2  bhadra     86\n",
            "3   david     75\n",
            "4    rusu     96\n"
          ]
        }
      ]
    },
    {
      "cell_type": "code",
      "source": [
        "import pandas as pd\n",
        "\n",
        "data1={\n",
        "    \"name\":['najah',\"elsa\",\"bhadra\",\"david\",\"rusu\"],\n",
        "    \"score\":[85,96,86,75,96],\n",
        "    \"grade\":['a','b','c','d','e']\n",
        "}\n",
        "df=pd.DataFrame(data1)\n",
        "df.info()\n",
        "df.describe()\n",
        "print(df.columns)\n",
        "print(df.shape)\n"
      ],
      "metadata": {
        "colab": {
          "base_uri": "https://localhost:8080/"
        },
        "id": "tEK-0B7F0_-H",
        "outputId": "9c7f6aa7-8a18-4c7f-aa07-fba8979dd514"
      },
      "execution_count": 56,
      "outputs": [
        {
          "output_type": "stream",
          "name": "stdout",
          "text": [
            "<class 'pandas.core.frame.DataFrame'>\n",
            "RangeIndex: 5 entries, 0 to 4\n",
            "Data columns (total 3 columns):\n",
            " #   Column  Non-Null Count  Dtype \n",
            "---  ------  --------------  ----- \n",
            " 0   name    5 non-null      object\n",
            " 1   score   5 non-null      int64 \n",
            " 2   grade   5 non-null      object\n",
            "dtypes: int64(1), object(2)\n",
            "memory usage: 252.0+ bytes\n",
            "Index(['name', 'score', 'grade'], dtype='object')\n",
            "(5, 3)\n"
          ]
        }
      ]
    },
    {
      "cell_type": "code",
      "source": [
        "import pandas as pd\n",
        "\n",
        "data1={\n",
        "    \"name\":['najah',\"elsa\",\"bhadra\",\"david\",\"rusu\"],\n",
        "    \"score\":[85,96,86,75,96],\n",
        "    \"grade\":['a','b','c','d','e']\n",
        "}"
      ],
      "metadata": {
        "colab": {
          "base_uri": "https://localhost:8080/"
        },
        "id": "oQZ0URY_1xbv",
        "outputId": "80bfc56b-1d67-4212-8ba5-09e871f3c620"
      },
      "execution_count": 57,
      "outputs": [
        {
          "output_type": "stream",
          "name": "stdout",
          "text": [
            "Index(['name', 'score', 'grade'], dtype='object')\n",
            "(5, 3)\n"
          ]
        }
      ]
    },
    {
      "cell_type": "code",
      "source": [],
      "metadata": {
        "id": "4BHdzHSL5aui"
      },
      "execution_count": null,
      "outputs": []
    },
    {
      "cell_type": "code",
      "source": [
        "#def.loc[]\n",
        "import pandas as pd\n",
        "\n",
        "data1={\n",
        "    \"name\":['najah',\"elsa\",\"bhadra\",\"david\",\"rusu\"],\n",
        "    \"score\":[85,96,86,75,96],\n",
        "    \"grade\":['a','b','c','d','e']\n",
        "}\n",
        "df = pd.DataFrame(data1)\n",
        "\n",
        "print(df.loc[0,'name'])\n",
        "print(df.loc[1,'name'])\n",
        "print(df.loc[:,[\"name\",\"score\"]])"
      ],
      "metadata": {
        "colab": {
          "base_uri": "https://localhost:8080/"
        },
        "id": "9rSfIZWh5s5a",
        "outputId": "6b2372fb-229c-4235-aa5a-b0c6a5c9a29c"
      },
      "execution_count": 60,
      "outputs": [
        {
          "output_type": "stream",
          "name": "stdout",
          "text": [
            "najah\n",
            "elsa\n",
            "     name  score\n",
            "0   najah     85\n",
            "1    elsa     96\n",
            "2  bhadra     86\n",
            "3   david     75\n",
            "4    rusu     96\n"
          ]
        }
      ]
    }
  ]
}