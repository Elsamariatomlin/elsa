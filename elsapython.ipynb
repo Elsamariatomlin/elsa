{
  "nbformat": 4,
  "nbformat_minor": 0,
  "metadata": {
    "colab": {
      "provenance": [],
      "authorship_tag": "ABX9TyNlv4HFndeIWohlRBIiq3XJ",
      "include_colab_link": true
    },
    "kernelspec": {
      "name": "python3",
      "display_name": "Python 3"
    },
    "language_info": {
      "name": "python"
    }
  },
  "cells": [
    {
      "cell_type": "markdown",
      "metadata": {
        "id": "view-in-github",
        "colab_type": "text"
      },
      "source": [
        "<a href=\"https://colab.research.google.com/github/Elsamariatomlin/elsa/blob/main/elsapython.ipynb\" target=\"_parent\"><img src=\"https://colab.research.google.com/assets/colab-badge.svg\" alt=\"Open In Colab\"/></a>"
      ]
    },
    {
      "cell_type": "code",
      "execution_count": 36,
      "metadata": {
        "colab": {
          "base_uri": "https://localhost:8080/"
        },
        "id": "WQSk0k0dqmLL",
        "outputId": "a958a832-9ef1-4d4c-a0eb-956f3fdf3043"
      },
      "outputs": [
        {
          "output_type": "stream",
          "name": "stdout",
          "text": [
            "0.2752081335792903\n",
            "[0.95726501 0.59038408 0.22038164]\n",
            "2.5\n",
            "2.5\n",
            "1.118033988749895\n",
            "3\n",
            "[95 95 71 95 99]\n",
            "[[53 90 69]\n",
            " [46 35 26]\n",
            " [29 84 25]]\n",
            "[487226 104590 208669 686661 196428]\n",
            "4056\n"
          ]
        }
      ],
      "source": [
        "import numpy as np\n",
        "a =np.random.rand()\n",
        "print(a)\n",
        "b=np.random.rand(3)\n",
        "print(b)\n",
        "arr =np.array([1,2,4,3])\n",
        "print(np.mean(arr))\n",
        "print(np.median(arr))\n",
        "print(np.std(arr))\n",
        "x=np.random.randint(1,10)\n",
        "print(x)\n",
        "y=np.random.randint(0,100,size=5)\n",
        "print(y)\n",
        "z=np.random.randint(10,100,size=(3,3))\n",
        "print(z)\n",
        "otp = np.random.randint(100000, 1000000, size=5)\n",
        "print( otp)\n",
        "otp4 = np.random.randint(1000, 10000)\n",
        "print(otp4)\n"
      ]
    },
    {
      "cell_type": "code",
      "source": [
        "import pandas as pd\n",
        "s=pd.Series([10,20,30,40])\n",
        "print(s)\n",
        "#series\n",
        "#Dataframe\n",
        "data={\"name\":[\"alice\",'bob'],\"age\":[25,20]}\n",
        "df=pd.DataFrame(data)\n",
        "print(df)\n"
      ],
      "metadata": {
        "colab": {
          "base_uri": "https://localhost:8080/"
        },
        "id": "XyrzfyuAt0Us",
        "outputId": "0e8331d0-dfbd-4c72-f5da-939c451f8c21"
      },
      "execution_count": 40,
      "outputs": [
        {
          "output_type": "stream",
          "name": "stdout",
          "text": [
            "0    10\n",
            "1    20\n",
            "2    30\n",
            "3    40\n",
            "dtype: int64\n",
            "    name  age\n",
            "0  alice   25\n",
            "1    bob   20\n"
          ]
        }
      ]
    },
    {
      "cell_type": "code",
      "source": [
        "import pandas as pd\n",
        "#df.head\n",
        "data1={\n",
        "    \"name\":['najah',\"elsa\",\"bhadra\",\"david\",\"rusu\"],\n",
        "    \"score\":[85,96,86,75,96]\n",
        "}\n",
        "df=pd.DataFrame(data1)\n",
        "print(df.head())\n",
        "print(df.head(3))\n"
      ],
      "metadata": {
        "colab": {
          "base_uri": "https://localhost:8080/"
        },
        "id": "AszZ-Ap4ziKn",
        "outputId": "4d2ada33-27a8-485d-b8bb-a44cb91adb50"
      },
      "execution_count": 41,
      "outputs": [
        {
          "output_type": "stream",
          "name": "stdout",
          "text": [
            "     name  score\n",
            "0   najah     85\n",
            "1    elsa     96\n",
            "2  bhadra     86\n",
            "3   david     75\n",
            "4    rusu     96\n",
            "     name  score\n",
            "0   najah     85\n",
            "1    elsa     96\n",
            "2  bhadra     86\n"
          ]
        }
      ]
    },
    {
      "cell_type": "code",
      "source": [
        "#d.tail\n",
        "import pandas as pd\n",
        "\n",
        "data1={\n",
        "    \"name\":['najah',\"elsa\",\"bhadra\",\"david\",\"rusu\"],\n",
        "    \"score\":[85,96,86,75,96]\n",
        "}\n",
        "df=pd.DataFrame(data1)\n",
        "print(df.tail())\n",
        "print(df.tail(3))"
      ],
      "metadata": {
        "colab": {
          "base_uri": "https://localhost:8080/"
        },
        "id": "vzzfR8Kd0zCB",
        "outputId": "d0cad4c7-5cfd-4d24-ac17-5ba46288fb57"
      },
      "execution_count": 42,
      "outputs": [
        {
          "output_type": "stream",
          "name": "stdout",
          "text": [
            "     name  score\n",
            "0   najah     85\n",
            "1    elsa     96\n",
            "2  bhadra     86\n",
            "3   david     75\n",
            "4    rusu     96\n",
            "     name  score\n",
            "2  bhadra     86\n",
            "3   david     75\n",
            "4    rusu     96\n"
          ]
        }
      ]
    },
    {
      "cell_type": "code",
      "source": [
        "import pandas as pd\n",
        "\n",
        "data1={\n",
        "    \"name\":['najah',\"elsa\",\"bhadra\",\"david\",\"rusu\"],\n",
        "    \"score\":[85,96,86,75,96],\n",
        "    \"grade\":['a','b','c','d','e']\n",
        "}\n",
        "df=pd.DataFrame(data1)\n",
        "df.info()"
      ],
      "metadata": {
        "colab": {
          "base_uri": "https://localhost:8080/"
        },
        "id": "tEK-0B7F0_-H",
        "outputId": "40d1a27b-a8eb-4ea5-ec4f-b5ab63ddce5c"
      },
      "execution_count": 44,
      "outputs": [
        {
          "output_type": "stream",
          "name": "stdout",
          "text": [
            "<class 'pandas.core.frame.DataFrame'>\n",
            "RangeIndex: 5 entries, 0 to 4\n",
            "Data columns (total 3 columns):\n",
            " #   Column  Non-Null Count  Dtype \n",
            "---  ------  --------------  ----- \n",
            " 0   name    5 non-null      object\n",
            " 1   score   5 non-null      int64 \n",
            " 2   grade   5 non-null      object\n",
            "dtypes: int64(1), object(2)\n",
            "memory usage: 252.0+ bytes\n"
          ]
        }
      ]
    },
    {
      "cell_type": "code",
      "source": [],
      "metadata": {
        "id": "oQZ0URY_1xbv"
      },
      "execution_count": null,
      "outputs": []
    }
  ]
}