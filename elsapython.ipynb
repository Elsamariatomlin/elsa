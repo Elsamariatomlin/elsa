{
  "nbformat": 4,
  "nbformat_minor": 0,
  "metadata": {
    "colab": {
      "provenance": [],
      "authorship_tag": "ABX9TyNFBu8Gp+Yf3blcV8xzBvDL",
      "include_colab_link": true
    },
    "kernelspec": {
      "name": "python3",
      "display_name": "Python 3"
    },
    "language_info": {
      "name": "python"
    }
  },
  "cells": [
    {
      "cell_type": "markdown",
      "metadata": {
        "id": "view-in-github",
        "colab_type": "text"
      },
      "source": [
        "<a href=\"https://colab.research.google.com/github/Elsamariatomlin/elsa/blob/main/elsapython.ipynb\" target=\"_parent\"><img src=\"https://colab.research.google.com/assets/colab-badge.svg\" alt=\"Open In Colab\"/></a>"
      ]
    },
    {
      "cell_type": "code",
      "execution_count": null,
      "metadata": {
        "colab": {
          "base_uri": "https://localhost:8080/"
        },
        "id": "WQSk0k0dqmLL",
        "outputId": "6a808a70-3773-4fe7-eaf0-e2c87343ae5b"
      },
      "outputs": [
        {
          "output_type": "stream",
          "name": "stdout",
          "text": [
            "0.65798975502288\n",
            "[0.18140273 0.2538983  0.57618277]\n",
            "2.5\n",
            "2.5\n",
            "1.118033988749895\n",
            "6\n",
            "[88 84 75 84 41]\n",
            "[[80 89 39]\n",
            " [66 15 11]\n",
            " [79 25 12]]\n",
            "[944449 279552 208360 574778 942254]\n",
            "9465\n"
          ]
        }
      ],
      "source": [
        "import numpy as np\n",
        "a =np.random.rand()\n",
        "print(a)\n",
        "b=np.random.rand(3)\n",
        "print(b)\n",
        "arr =np.array([1,2,4,3])\n",
        "print(np.mean(arr))\n",
        "print(np.median(arr))\n",
        "print(np.std(arr))\n",
        "x=np.random.randint(1,10)\n",
        "print(x)\n",
        "y=np.random.randint(0,100,size=5)\n",
        "print(y)\n",
        "z=np.random.randint(10,100,size=(3,3))\n",
        "print(z)\n",
        "otp = np.random.randint(100000, 1000000, size=5)\n",
        "print( otp)\n",
        "otp4 = np.random.randint(1000, 10000)\n",
        "print(otp4)\n"
      ]
    },
    {
      "cell_type": "code",
      "source": [],
      "metadata": {
        "id": "aolrNPeZ-zE5"
      },
      "execution_count": null,
      "outputs": []
    },
    {
      "cell_type": "code",
      "source": [
        "import pandas as pd\n",
        "s=pd.Series([10,20,30,40])\n",
        "print(s)\n",
        "#series\n",
        "#Dataframe\n",
        "data={\"name\":[\"alice\",'bob'],\"age\":[25,20]}\n",
        "df=pd.DataFrame(data)\n",
        "print(df)\n"
      ],
      "metadata": {
        "colab": {
          "base_uri": "https://localhost:8080/"
        },
        "id": "XyrzfyuAt0Us",
        "outputId": "9d0722d2-d1cb-464a-e2b5-bba168131046"
      },
      "execution_count": null,
      "outputs": [
        {
          "output_type": "stream",
          "name": "stdout",
          "text": [
            "0    10\n",
            "1    20\n",
            "2    30\n",
            "3    40\n",
            "dtype: int64\n",
            "    name  age\n",
            "0  alice   25\n",
            "1    bob   20\n"
          ]
        }
      ]
    },
    {
      "cell_type": "code",
      "source": [
        "import pandas as pd\n",
        "#df.head\n",
        "data1={\n",
        "    \"name\":['najah',\"elsa\",\"bhadra\",\"david\",\"rusu\"],\n",
        "    \"score\":[85,96,86,75,96]\n",
        "}\n",
        "df=pd.DataFrame(data1)\n",
        "print(df.head())\n",
        "print(df.head(3))\n"
      ],
      "metadata": {
        "colab": {
          "base_uri": "https://localhost:8080/"
        },
        "id": "AszZ-Ap4ziKn",
        "outputId": "1386aefa-6379-41cb-b311-0322dfa8a07f"
      },
      "execution_count": null,
      "outputs": [
        {
          "output_type": "stream",
          "name": "stdout",
          "text": [
            "     name  score\n",
            "0   najah     85\n",
            "1    elsa     96\n",
            "2  bhadra     86\n",
            "3   david     75\n",
            "4    rusu     96\n",
            "     name  score\n",
            "0   najah     85\n",
            "1    elsa     96\n",
            "2  bhadra     86\n"
          ]
        }
      ]
    },
    {
      "cell_type": "code",
      "source": [
        "#d.tail\n",
        "import pandas as pd\n",
        "\n",
        "data1={\n",
        "    \"name\":['najah',\"elsa\",\"bhadra\",\"david\",\"rusu\"],\n",
        "    \"score\":[85,96,86,75,96]\n",
        "}\n",
        "df=pd.DataFrame(data1)\n",
        "print(df.tail())\n",
        "print(df.tail(3))"
      ],
      "metadata": {
        "colab": {
          "base_uri": "https://localhost:8080/"
        },
        "id": "vzzfR8Kd0zCB",
        "outputId": "0e03f808-8996-495d-ce99-f0c8410d7f22"
      },
      "execution_count": null,
      "outputs": [
        {
          "output_type": "stream",
          "name": "stdout",
          "text": [
            "     name  score\n",
            "0   najah     85\n",
            "1    elsa     96\n",
            "2  bhadra     86\n",
            "3   david     75\n",
            "4    rusu     96\n",
            "     name  score\n",
            "2  bhadra     86\n",
            "3   david     75\n",
            "4    rusu     96\n"
          ]
        }
      ]
    },
    {
      "cell_type": "code",
      "source": [
        "import pandas as pd\n",
        "\n",
        "data1={\n",
        "    \"name\":['najah',\"elsa\",\"bhadra\",\"david\",\"rusu\"],\n",
        "    \"score\":[85,96,86,75,96],\n",
        "    \"grade\":['a','b','c','d','e']\n",
        "}\n",
        "df=pd.DataFrame(data1)\n",
        "df.info()\n",
        "df.describe()\n",
        "print(df.columns)\n",
        "print(df.shape)\n"
      ],
      "metadata": {
        "colab": {
          "base_uri": "https://localhost:8080/"
        },
        "id": "tEK-0B7F0_-H",
        "outputId": "9c7f6aa7-8a18-4c7f-aa07-fba8979dd514"
      },
      "execution_count": null,
      "outputs": [
        {
          "output_type": "stream",
          "name": "stdout",
          "text": [
            "<class 'pandas.core.frame.DataFrame'>\n",
            "RangeIndex: 5 entries, 0 to 4\n",
            "Data columns (total 3 columns):\n",
            " #   Column  Non-Null Count  Dtype \n",
            "---  ------  --------------  ----- \n",
            " 0   name    5 non-null      object\n",
            " 1   score   5 non-null      int64 \n",
            " 2   grade   5 non-null      object\n",
            "dtypes: int64(1), object(2)\n",
            "memory usage: 252.0+ bytes\n",
            "Index(['name', 'score', 'grade'], dtype='object')\n",
            "(5, 3)\n"
          ]
        }
      ]
    },
    {
      "cell_type": "code",
      "source": [
        "import pandas as pd\n",
        "\n",
        "data1={\n",
        "    \"name\":['najah',\"elsa\",\"bhadra\",\"david\",\"rusu\"],\n",
        "    \"score\":[85,96,86,75,96],\n",
        "    \"grade\":['a','b','c','d','e']\n",
        "}"
      ],
      "metadata": {
        "colab": {
          "base_uri": "https://localhost:8080/"
        },
        "id": "oQZ0URY_1xbv",
        "outputId": "80bfc56b-1d67-4212-8ba5-09e871f3c620"
      },
      "execution_count": null,
      "outputs": [
        {
          "output_type": "stream",
          "name": "stdout",
          "text": [
            "Index(['name', 'score', 'grade'], dtype='object')\n",
            "(5, 3)\n"
          ]
        }
      ]
    },
    {
      "cell_type": "code",
      "source": [],
      "metadata": {
        "id": "4BHdzHSL5aui"
      },
      "execution_count": null,
      "outputs": []
    },
    {
      "cell_type": "code",
      "source": [
        "#def.loc[]\n",
        "import pandas as pd\n",
        "\n",
        "data1={\n",
        "    \"name\":['najah',\"elsa\",\"bhadra\",\"david\",\"rusu\"],\n",
        "    \"score\":[85,96,86,75,96],\n",
        "    \"grade\":['a','b','c','d','e']\n",
        "}\n",
        "df = pd.DataFrame(data1)\n",
        "\n",
        "print(df.loc[0,'grade'])\n",
        "print(df.loc[1,'name'])\n",
        "print(df.loc[:,[\"name\",\"score\"]])"
      ],
      "metadata": {
        "colab": {
          "base_uri": "https://localhost:8080/"
        },
        "id": "9rSfIZWh5s5a",
        "outputId": "865e0205-3d4b-45e6-bdab-64ccb1ae8207"
      },
      "execution_count": null,
      "outputs": [
        {
          "output_type": "stream",
          "name": "stdout",
          "text": [
            "a\n",
            "elsa\n",
            "     name  score\n",
            "0   najah     85\n",
            "1    elsa     96\n",
            "2  bhadra     86\n",
            "3   david     75\n",
            "4    rusu     96\n"
          ]
        }
      ]
    },
    {
      "cell_type": "code",
      "source": [
        "import pandas as pd\n",
        "\n",
        "data1={\n",
        "    \"name\":['najah',\"elsa\",\"bhadra\",\"david\",\"rusu\"],\n",
        "    \"score\":[85,96,86,75,96],\n",
        "    \"grade\":['a','b','c','d','e']\n",
        "}\n",
        "df = pd.DataFrame(data1)\n",
        "df.iloc[0]\n",
        "df.iloc[0,1]\n",
        "df.iloc[:,[0,2]]"
      ],
      "metadata": {
        "colab": {
          "base_uri": "https://localhost:8080/",
          "height": 206
        },
        "id": "qKlQD5es9kvb",
        "outputId": "6fc6e18c-6532-49de-ebcb-1b1a4f90f7b6"
      },
      "execution_count": null,
      "outputs": [
        {
          "output_type": "execute_result",
          "data": {
            "text/plain": [
              "     name grade\n",
              "0   najah     a\n",
              "1    elsa     b\n",
              "2  bhadra     c\n",
              "3   david     d\n",
              "4    rusu     e"
            ],
            "text/html": [
              "\n",
              "  <div id=\"df-a4b2c6d7-e3d7-430f-91f8-ea365f458f51\" class=\"colab-df-container\">\n",
              "    <div>\n",
              "<style scoped>\n",
              "    .dataframe tbody tr th:only-of-type {\n",
              "        vertical-align: middle;\n",
              "    }\n",
              "\n",
              "    .dataframe tbody tr th {\n",
              "        vertical-align: top;\n",
              "    }\n",
              "\n",
              "    .dataframe thead th {\n",
              "        text-align: right;\n",
              "    }\n",
              "</style>\n",
              "<table border=\"1\" class=\"dataframe\">\n",
              "  <thead>\n",
              "    <tr style=\"text-align: right;\">\n",
              "      <th></th>\n",
              "      <th>name</th>\n",
              "      <th>grade</th>\n",
              "    </tr>\n",
              "  </thead>\n",
              "  <tbody>\n",
              "    <tr>\n",
              "      <th>0</th>\n",
              "      <td>najah</td>\n",
              "      <td>a</td>\n",
              "    </tr>\n",
              "    <tr>\n",
              "      <th>1</th>\n",
              "      <td>elsa</td>\n",
              "      <td>b</td>\n",
              "    </tr>\n",
              "    <tr>\n",
              "      <th>2</th>\n",
              "      <td>bhadra</td>\n",
              "      <td>c</td>\n",
              "    </tr>\n",
              "    <tr>\n",
              "      <th>3</th>\n",
              "      <td>david</td>\n",
              "      <td>d</td>\n",
              "    </tr>\n",
              "    <tr>\n",
              "      <th>4</th>\n",
              "      <td>rusu</td>\n",
              "      <td>e</td>\n",
              "    </tr>\n",
              "  </tbody>\n",
              "</table>\n",
              "</div>\n",
              "    <div class=\"colab-df-buttons\">\n",
              "\n",
              "  <div class=\"colab-df-container\">\n",
              "    <button class=\"colab-df-convert\" onclick=\"convertToInteractive('df-a4b2c6d7-e3d7-430f-91f8-ea365f458f51')\"\n",
              "            title=\"Convert this dataframe to an interactive table.\"\n",
              "            style=\"display:none;\">\n",
              "\n",
              "  <svg xmlns=\"http://www.w3.org/2000/svg\" height=\"24px\" viewBox=\"0 -960 960 960\">\n",
              "    <path d=\"M120-120v-720h720v720H120Zm60-500h600v-160H180v160Zm220 220h160v-160H400v160Zm0 220h160v-160H400v160ZM180-400h160v-160H180v160Zm440 0h160v-160H620v160ZM180-180h160v-160H180v160Zm440 0h160v-160H620v160Z\"/>\n",
              "  </svg>\n",
              "    </button>\n",
              "\n",
              "  <style>\n",
              "    .colab-df-container {\n",
              "      display:flex;\n",
              "      gap: 12px;\n",
              "    }\n",
              "\n",
              "    .colab-df-convert {\n",
              "      background-color: #E8F0FE;\n",
              "      border: none;\n",
              "      border-radius: 50%;\n",
              "      cursor: pointer;\n",
              "      display: none;\n",
              "      fill: #1967D2;\n",
              "      height: 32px;\n",
              "      padding: 0 0 0 0;\n",
              "      width: 32px;\n",
              "    }\n",
              "\n",
              "    .colab-df-convert:hover {\n",
              "      background-color: #E2EBFA;\n",
              "      box-shadow: 0px 1px 2px rgba(60, 64, 67, 0.3), 0px 1px 3px 1px rgba(60, 64, 67, 0.15);\n",
              "      fill: #174EA6;\n",
              "    }\n",
              "\n",
              "    .colab-df-buttons div {\n",
              "      margin-bottom: 4px;\n",
              "    }\n",
              "\n",
              "    [theme=dark] .colab-df-convert {\n",
              "      background-color: #3B4455;\n",
              "      fill: #D2E3FC;\n",
              "    }\n",
              "\n",
              "    [theme=dark] .colab-df-convert:hover {\n",
              "      background-color: #434B5C;\n",
              "      box-shadow: 0px 1px 3px 1px rgba(0, 0, 0, 0.15);\n",
              "      filter: drop-shadow(0px 1px 2px rgba(0, 0, 0, 0.3));\n",
              "      fill: #FFFFFF;\n",
              "    }\n",
              "  </style>\n",
              "\n",
              "    <script>\n",
              "      const buttonEl =\n",
              "        document.querySelector('#df-a4b2c6d7-e3d7-430f-91f8-ea365f458f51 button.colab-df-convert');\n",
              "      buttonEl.style.display =\n",
              "        google.colab.kernel.accessAllowed ? 'block' : 'none';\n",
              "\n",
              "      async function convertToInteractive(key) {\n",
              "        const element = document.querySelector('#df-a4b2c6d7-e3d7-430f-91f8-ea365f458f51');\n",
              "        const dataTable =\n",
              "          await google.colab.kernel.invokeFunction('convertToInteractive',\n",
              "                                                    [key], {});\n",
              "        if (!dataTable) return;\n",
              "\n",
              "        const docLinkHtml = 'Like what you see? Visit the ' +\n",
              "          '<a target=\"_blank\" href=https://colab.research.google.com/notebooks/data_table.ipynb>data table notebook</a>'\n",
              "          + ' to learn more about interactive tables.';\n",
              "        element.innerHTML = '';\n",
              "        dataTable['output_type'] = 'display_data';\n",
              "        await google.colab.output.renderOutput(dataTable, element);\n",
              "        const docLink = document.createElement('div');\n",
              "        docLink.innerHTML = docLinkHtml;\n",
              "        element.appendChild(docLink);\n",
              "      }\n",
              "    </script>\n",
              "  </div>\n",
              "\n",
              "\n",
              "    <div id=\"df-d0ac6f29-463e-4e51-9eaa-5ca079e36c8e\">\n",
              "      <button class=\"colab-df-quickchart\" onclick=\"quickchart('df-d0ac6f29-463e-4e51-9eaa-5ca079e36c8e')\"\n",
              "                title=\"Suggest charts\"\n",
              "                style=\"display:none;\">\n",
              "\n",
              "<svg xmlns=\"http://www.w3.org/2000/svg\" height=\"24px\"viewBox=\"0 0 24 24\"\n",
              "     width=\"24px\">\n",
              "    <g>\n",
              "        <path d=\"M19 3H5c-1.1 0-2 .9-2 2v14c0 1.1.9 2 2 2h14c1.1 0 2-.9 2-2V5c0-1.1-.9-2-2-2zM9 17H7v-7h2v7zm4 0h-2V7h2v10zm4 0h-2v-4h2v4z\"/>\n",
              "    </g>\n",
              "</svg>\n",
              "      </button>\n",
              "\n",
              "<style>\n",
              "  .colab-df-quickchart {\n",
              "      --bg-color: #E8F0FE;\n",
              "      --fill-color: #1967D2;\n",
              "      --hover-bg-color: #E2EBFA;\n",
              "      --hover-fill-color: #174EA6;\n",
              "      --disabled-fill-color: #AAA;\n",
              "      --disabled-bg-color: #DDD;\n",
              "  }\n",
              "\n",
              "  [theme=dark] .colab-df-quickchart {\n",
              "      --bg-color: #3B4455;\n",
              "      --fill-color: #D2E3FC;\n",
              "      --hover-bg-color: #434B5C;\n",
              "      --hover-fill-color: #FFFFFF;\n",
              "      --disabled-bg-color: #3B4455;\n",
              "      --disabled-fill-color: #666;\n",
              "  }\n",
              "\n",
              "  .colab-df-quickchart {\n",
              "    background-color: var(--bg-color);\n",
              "    border: none;\n",
              "    border-radius: 50%;\n",
              "    cursor: pointer;\n",
              "    display: none;\n",
              "    fill: var(--fill-color);\n",
              "    height: 32px;\n",
              "    padding: 0;\n",
              "    width: 32px;\n",
              "  }\n",
              "\n",
              "  .colab-df-quickchart:hover {\n",
              "    background-color: var(--hover-bg-color);\n",
              "    box-shadow: 0 1px 2px rgba(60, 64, 67, 0.3), 0 1px 3px 1px rgba(60, 64, 67, 0.15);\n",
              "    fill: var(--button-hover-fill-color);\n",
              "  }\n",
              "\n",
              "  .colab-df-quickchart-complete:disabled,\n",
              "  .colab-df-quickchart-complete:disabled:hover {\n",
              "    background-color: var(--disabled-bg-color);\n",
              "    fill: var(--disabled-fill-color);\n",
              "    box-shadow: none;\n",
              "  }\n",
              "\n",
              "  .colab-df-spinner {\n",
              "    border: 2px solid var(--fill-color);\n",
              "    border-color: transparent;\n",
              "    border-bottom-color: var(--fill-color);\n",
              "    animation:\n",
              "      spin 1s steps(1) infinite;\n",
              "  }\n",
              "\n",
              "  @keyframes spin {\n",
              "    0% {\n",
              "      border-color: transparent;\n",
              "      border-bottom-color: var(--fill-color);\n",
              "      border-left-color: var(--fill-color);\n",
              "    }\n",
              "    20% {\n",
              "      border-color: transparent;\n",
              "      border-left-color: var(--fill-color);\n",
              "      border-top-color: var(--fill-color);\n",
              "    }\n",
              "    30% {\n",
              "      border-color: transparent;\n",
              "      border-left-color: var(--fill-color);\n",
              "      border-top-color: var(--fill-color);\n",
              "      border-right-color: var(--fill-color);\n",
              "    }\n",
              "    40% {\n",
              "      border-color: transparent;\n",
              "      border-right-color: var(--fill-color);\n",
              "      border-top-color: var(--fill-color);\n",
              "    }\n",
              "    60% {\n",
              "      border-color: transparent;\n",
              "      border-right-color: var(--fill-color);\n",
              "    }\n",
              "    80% {\n",
              "      border-color: transparent;\n",
              "      border-right-color: var(--fill-color);\n",
              "      border-bottom-color: var(--fill-color);\n",
              "    }\n",
              "    90% {\n",
              "      border-color: transparent;\n",
              "      border-bottom-color: var(--fill-color);\n",
              "    }\n",
              "  }\n",
              "</style>\n",
              "\n",
              "      <script>\n",
              "        async function quickchart(key) {\n",
              "          const quickchartButtonEl =\n",
              "            document.querySelector('#' + key + ' button');\n",
              "          quickchartButtonEl.disabled = true;  // To prevent multiple clicks.\n",
              "          quickchartButtonEl.classList.add('colab-df-spinner');\n",
              "          try {\n",
              "            const charts = await google.colab.kernel.invokeFunction(\n",
              "                'suggestCharts', [key], {});\n",
              "          } catch (error) {\n",
              "            console.error('Error during call to suggestCharts:', error);\n",
              "          }\n",
              "          quickchartButtonEl.classList.remove('colab-df-spinner');\n",
              "          quickchartButtonEl.classList.add('colab-df-quickchart-complete');\n",
              "        }\n",
              "        (() => {\n",
              "          let quickchartButtonEl =\n",
              "            document.querySelector('#df-d0ac6f29-463e-4e51-9eaa-5ca079e36c8e button');\n",
              "          quickchartButtonEl.style.display =\n",
              "            google.colab.kernel.accessAllowed ? 'block' : 'none';\n",
              "        })();\n",
              "      </script>\n",
              "    </div>\n",
              "\n",
              "    </div>\n",
              "  </div>\n"
            ],
            "application/vnd.google.colaboratory.intrinsic+json": {
              "type": "dataframe",
              "summary": "{\n  \"name\": \"df\",\n  \"rows\": 5,\n  \"fields\": [\n    {\n      \"column\": \"name\",\n      \"properties\": {\n        \"dtype\": \"string\",\n        \"num_unique_values\": 5,\n        \"samples\": [\n          \"elsa\",\n          \"rusu\",\n          \"bhadra\"\n        ],\n        \"semantic_type\": \"\",\n        \"description\": \"\"\n      }\n    },\n    {\n      \"column\": \"grade\",\n      \"properties\": {\n        \"dtype\": \"string\",\n        \"num_unique_values\": 5,\n        \"samples\": [\n          \"b\",\n          \"e\",\n          \"c\"\n        ],\n        \"semantic_type\": \"\",\n        \"description\": \"\"\n      }\n    }\n  ]\n}"
            }
          },
          "metadata": {},
          "execution_count": 75
        }
      ]
    },
    {
      "cell_type": "code",
      "source": [
        "import pandas as pd\n",
        "\n",
        "data1={\n",
        "    \"name\":['najah',\"elsa\",\"bhadra\",\"david\",\"rusu\"],\n",
        "    \"score\":[85,96,None,75,96],\n",
        "    \"grade\":['a','b','c','d','e']\n",
        "}\n",
        "df = pd.DataFrame(data1)\n",
        "print(df.isnull())"
      ],
      "metadata": {
        "colab": {
          "base_uri": "https://localhost:8080/"
        },
        "id": "1f-SzRxk-MEW",
        "outputId": "91ccdaf0-e754-47ca-9f75-d8512da26971"
      },
      "execution_count": null,
      "outputs": [
        {
          "output_type": "stream",
          "name": "stdout",
          "text": [
            "    name  score  grade\n",
            "0  False  False  False\n",
            "1  False  False  False\n",
            "2  False   True  False\n",
            "3  False  False  False\n",
            "4  False  False  False\n"
          ]
        }
      ]
    },
    {
      "cell_type": "code",
      "source": [
        "#df.dropna()  null delete akkum\n",
        "import pandas as pd\n",
        "\n",
        "data1={\n",
        "    \"name\":['najah',\"elsa\",\"bhadra\",\"david\",\"rusu\"],\n",
        "    \"score\":[85,96,None,75,96],\n",
        "    \"grade\":['a','b','c','d','e']\n",
        "}\n",
        "df = pd.DataFrame(data1)\n",
        "print(df.dropna())"
      ],
      "metadata": {
        "colab": {
          "base_uri": "https://localhost:8080/"
        },
        "id": "OGRqlCwGAzbk",
        "outputId": "caa3536c-dacf-493b-d6e0-6c88a1427770"
      },
      "execution_count": null,
      "outputs": [
        {
          "output_type": "stream",
          "name": "stdout",
          "text": [
            "    name  score grade\n",
            "0  najah   85.0     a\n",
            "1   elsa   96.0     b\n",
            "3  david   75.0     d\n",
            "4   rusu   96.0     e\n"
          ]
        }
      ]
    },
    {
      "cell_type": "code",
      "source": [
        "import pandas as pd\n",
        "\n",
        "data1={\n",
        "    \"name\":['najah',\"elsa\",\"bhadra\",\"david\",\"rusu\"],\n",
        "    \"score\":[85,96,None,75,96],\n",
        "    \"grade\":['a','b','c','d','e']\n",
        "}\n",
        "df = pd.DataFrame(data1)\n",
        "print(df.fillna(81))"
      ],
      "metadata": {
        "colab": {
          "base_uri": "https://localhost:8080/"
        },
        "id": "HtIMQmgBB3dd",
        "outputId": "115b1286-d906-4267-e326-b5c6405067ca"
      },
      "execution_count": null,
      "outputs": [
        {
          "output_type": "stream",
          "name": "stdout",
          "text": [
            "     name  score grade\n",
            "0   najah   85.0     a\n",
            "1    elsa   96.0     b\n",
            "2  bhadra   81.0     c\n",
            "3   david   75.0     d\n",
            "4    rusu   96.0     e\n"
          ]
        }
      ]
    },
    {
      "cell_type": "markdown",
      "source": [
        "\n"
      ],
      "metadata": {
        "id": "wZV7aoQE881D"
      }
    },
    {
      "cell_type": "code",
      "source": [
        "import matplotlib.pyplot as plt\n",
        "import numpy as np\n",
        "import pandas as pd\n",
        "x=np.linspace(0,10,100)\n",
        "y=np.sin(x)\n",
        "plt.plot(x,y,color=\"red\",linestyle=\"--\",marker=\"o\")\n",
        "plt.title(\"line plot\")\n",
        "plt.xlabel(\"x axis\")\n",
        "plt.ylabel(\" y-axis\")\n",
        "plt.show()"
      ],
      "metadata": {
        "id": "IrGKkxmd-3fA",
        "outputId": "920c1860-6b7f-46bd-9e8f-dfd99405d800",
        "colab": {
          "base_uri": "https://localhost:8080/",
          "height": 472
        }
      },
      "execution_count": 1,
      "outputs": [
        {
          "output_type": "display_data",
          "data": {
            "text/plain": [
              "<Figure size 640x480 with 1 Axes>"
            ],
            "image/png": "[encoded data removed]"
          },
          "metadata": {}
        }
      ]
    }
  ]
}