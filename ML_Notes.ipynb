{
  "nbformat": 4,
  "nbformat_minor": 0,
  "metadata": {
    "colab": {
      "provenance": [],
      "authorship_tag": "ABX9TyMda/eWLxf7bfX6OB+wX1kR",
      "include_colab_link": true
    },
    "kernelspec": {
      "name": "python3",
      "display_name": "Python 3"
    },
    "language_info": {
      "name": "python"
    }
  },
  "cells": [
    {
      "cell_type": "markdown",
      "metadata": {
        "id": "view-in-github",
        "colab_type": "text"
      },
      "source": [
        "<a href=\"https://colab.research.google.com/github/Elsamariatomlin/elsa/blob/main/ML_Notes.ipynb\" target=\"_parent\"><img src=\"https://colab.research.google.com/assets/colab-badge.svg\" alt=\"Open In Colab\"/></a>"
      ]
    },
    {
      "cell_type": "code",
      "execution_count": null,
      "metadata": {
        "id": "PZKAjWIJbUIL"
      },
      "outputs": [],
      "source": [
        "#type of machine learning\n",
        "#Supervised learning:labled ,learn a maooing from input->output,data has input and correct output\n",
        "      # algorithm form the backboneof predictive analytics.\n",
        "      # LINEAR REGRESSION:prediction continiouas values.Simple,interpretabble,works well for numeric predictions\n",
        "                          # example used in real life like STUDENT RESULT,LOAN APPROVAL, HOUSE PRICE predictions\n",
        "      # Logistic Regression:Simple, linearly separable data.When you want to know probabilities.\n",
        "      # Decision Trees:-Capturing complex, nonlinear relationships.Easy to interpret (“if-else” rules).\n",
        "# Unsupervised learning\n",
        "# reinforncement learning\n",
        "# Semi Supervised learning\n",
        "\n",
        "#reshape :1D array innne 2D akkan vande"
      ]
    }
  ]
}