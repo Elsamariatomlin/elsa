{
  "nbformat": 4,
  "nbformat_minor": 0,
  "metadata": {
    "colab": {
      "provenance": [],
      "authorship_tag": "ABX9TyMo3GT42uwv9Ozi/EPBpefL",
      "include_colab_link": true
    },
    "kernelspec": {
      "name": "python3",
      "display_name": "Python 3"
    },
    "language_info": {
      "name": "python"
    }
  },
  "cells": [
    {
      "cell_type": "markdown",
      "metadata": {
        "id": "view-in-github",
        "colab_type": "text"
      },
      "source": [
        "<a href=\"https://colab.research.google.com/github/Elsamariatomlin/elsa/blob/main/cancer_prediction.ipynb\" target=\"_parent\"><img src=\"https://colab.research.google.com/assets/colab-badge.svg\" alt=\"Open In Colab\"/></a>"
      ]
    },
    {
      "cell_type": "code",
      "source": [
        "import pandas as pd\n",
        "from sklearn.datasets import load_breast_cancer\n",
        "from sklearn.model_selection import train_test_split\n",
        "from sklearn.linear_model import LogisticRegression\n",
        "from sklearn.metrics import accuracy_score, classification_report, confusion_matrix\n",
        "import seaborn as sns\n",
        "import matplotlib.pyplot as plt\n",
        "# 1.load dataset\n",
        "data=load_breast_cancer()\n",
        "df=pd.DataFrame(data.data,columns=data.feature_names)\n",
        "df[\"target\"] = data.target\n",
        "#keep only 5 important feature +target\n",
        "df_small =df[[\"mean radius\",\"mean texture\",\"mean perimeter\",\"mean area\",\"mean smoothness\",\"target\"]]"
      ],
      "metadata": {
        "id": "4hVZ2qAqIfXA"
      },
      "execution_count": null,
      "outputs": []
    }
  ]
}